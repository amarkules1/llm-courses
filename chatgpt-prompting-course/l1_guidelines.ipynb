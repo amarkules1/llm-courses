{
 "cells": [
  {
   "cell_type": "code",
   "execution_count": 1,
   "metadata": {},
   "outputs": [],
   "source": [
    "#setup stuff\n",
    "import openai\n",
    "import os\n",
    "\n",
    "from dotenv import load_dotenv, find_dotenv\n",
    "_ = load_dotenv(find_dotenv())\n",
    "\n",
    "openai.api_key = os.environ['OPENAI_API_KEY']"
   ]
  },
  {
   "cell_type": "code",
   "execution_count": 2,
   "metadata": {},
   "outputs": [],
   "source": [
    "# wrapper on openai api to get output based on text prompt\n",
    "def get_completion(prompt, model=\"gpt-3.5-turbo\"):\n",
    "    messages = [{\"role\": \"user\", \"content\": prompt}]\n",
    "    response = openai.ChatCompletion.create(\n",
    "        model=model,\n",
    "        messages=messages,\n",
    "        temperature=0, # this is the degree of randomness of the model's output\n",
    "    )\n",
    "    return response.choices[0].message[\"content\"]"
   ]
  },
  {
   "cell_type": "code",
   "execution_count": 3,
   "metadata": {},
   "outputs": [
    {
     "ename": "AuthenticationError",
     "evalue": "<empty message>",
     "output_type": "error",
     "traceback": [
      "\u001b[1;31m---------------------------------------------------------------------------\u001b[0m",
      "\u001b[1;31mAuthenticationError\u001b[0m                       Traceback (most recent call last)",
      "\u001b[1;32mc:\\Users\\amarl\\dev\\jupyter-notebooks\\llm-courses\\chatgpt-prompting-course\\l1_guidelines.ipynb Cell 3'\u001b[0m in \u001b[0;36m<cell line: 19>\u001b[1;34m()\u001b[0m\n\u001b[0;32m      <a href='vscode-notebook-cell:/c%3A/Users/amarl/dev/jupyter-notebooks/llm-courses/chatgpt-prompting-course/l1_guidelines.ipynb#ch0000003?line=1'>2</a>\u001b[0m text \u001b[39m=\u001b[39m \u001b[39mf\u001b[39m\u001b[39m\"\"\"\u001b[39m\n\u001b[0;32m      <a href='vscode-notebook-cell:/c%3A/Users/amarl/dev/jupyter-notebooks/llm-courses/chatgpt-prompting-course/l1_guidelines.ipynb#ch0000003?line=2'>3</a>\u001b[0m \u001b[39mYou should express what you want a model to do by \u001b[39m\u001b[39m\\\u001b[39m\u001b[39m \u001b[39m\n\u001b[0;32m      <a href='vscode-notebook-cell:/c%3A/Users/amarl/dev/jupyter-notebooks/llm-courses/chatgpt-prompting-course/l1_guidelines.ipynb#ch0000003?line=3'>4</a>\u001b[0m \u001b[39mproviding instructions that are as clear and \u001b[39m\u001b[39m\\\u001b[39m\u001b[39m \u001b[39m\n\u001b[1;32m   (...)\u001b[0m\n\u001b[0;32m     <a href='vscode-notebook-cell:/c%3A/Users/amarl/dev/jupyter-notebooks/llm-courses/chatgpt-prompting-course/l1_guidelines.ipynb#ch0000003?line=11'>12</a>\u001b[0m \u001b[39mmore detailed and relevant outputs.\u001b[39m\n\u001b[0;32m     <a href='vscode-notebook-cell:/c%3A/Users/amarl/dev/jupyter-notebooks/llm-courses/chatgpt-prompting-course/l1_guidelines.ipynb#ch0000003?line=12'>13</a>\u001b[0m \u001b[39m\"\"\"\u001b[39m\n\u001b[0;32m     <a href='vscode-notebook-cell:/c%3A/Users/amarl/dev/jupyter-notebooks/llm-courses/chatgpt-prompting-course/l1_guidelines.ipynb#ch0000003?line=13'>14</a>\u001b[0m prompt \u001b[39m=\u001b[39m \u001b[39mf\u001b[39m\u001b[39m\"\"\"\u001b[39m\n\u001b[0;32m     <a href='vscode-notebook-cell:/c%3A/Users/amarl/dev/jupyter-notebooks/llm-courses/chatgpt-prompting-course/l1_guidelines.ipynb#ch0000003?line=14'>15</a>\u001b[0m \u001b[39mSummarize the text delimited by triple backticks \u001b[39m\u001b[39m\\\u001b[39m\u001b[39m \u001b[39m\n\u001b[0;32m     <a href='vscode-notebook-cell:/c%3A/Users/amarl/dev/jupyter-notebooks/llm-courses/chatgpt-prompting-course/l1_guidelines.ipynb#ch0000003?line=15'>16</a>\u001b[0m \u001b[39minto a single sentence.\u001b[39m\n\u001b[0;32m     <a href='vscode-notebook-cell:/c%3A/Users/amarl/dev/jupyter-notebooks/llm-courses/chatgpt-prompting-course/l1_guidelines.ipynb#ch0000003?line=16'>17</a>\u001b[0m \u001b[39m```\u001b[39m\u001b[39m{\u001b[39;00mtext\u001b[39m}\u001b[39;00m\u001b[39m```\u001b[39m\n\u001b[0;32m     <a href='vscode-notebook-cell:/c%3A/Users/amarl/dev/jupyter-notebooks/llm-courses/chatgpt-prompting-course/l1_guidelines.ipynb#ch0000003?line=17'>18</a>\u001b[0m \u001b[39m\"\"\"\u001b[39m\n\u001b[1;32m---> <a href='vscode-notebook-cell:/c%3A/Users/amarl/dev/jupyter-notebooks/llm-courses/chatgpt-prompting-course/l1_guidelines.ipynb#ch0000003?line=18'>19</a>\u001b[0m response \u001b[39m=\u001b[39m get_completion(prompt)\n\u001b[0;32m     <a href='vscode-notebook-cell:/c%3A/Users/amarl/dev/jupyter-notebooks/llm-courses/chatgpt-prompting-course/l1_guidelines.ipynb#ch0000003?line=19'>20</a>\u001b[0m \u001b[39mprint\u001b[39m(response)\n",
      "\u001b[1;32mc:\\Users\\amarl\\dev\\jupyter-notebooks\\llm-courses\\chatgpt-prompting-course\\l1_guidelines.ipynb Cell 2'\u001b[0m in \u001b[0;36mget_completion\u001b[1;34m(prompt, model)\u001b[0m\n\u001b[0;32m      <a href='vscode-notebook-cell:/c%3A/Users/amarl/dev/jupyter-notebooks/llm-courses/chatgpt-prompting-course/l1_guidelines.ipynb#ch0000002?line=1'>2</a>\u001b[0m \u001b[39mdef\u001b[39;00m \u001b[39mget_completion\u001b[39m(prompt, model\u001b[39m=\u001b[39m\u001b[39m\"\u001b[39m\u001b[39mgpt-3.5-turbo\u001b[39m\u001b[39m\"\u001b[39m):\n\u001b[0;32m      <a href='vscode-notebook-cell:/c%3A/Users/amarl/dev/jupyter-notebooks/llm-courses/chatgpt-prompting-course/l1_guidelines.ipynb#ch0000002?line=2'>3</a>\u001b[0m     messages \u001b[39m=\u001b[39m [{\u001b[39m\"\u001b[39m\u001b[39mrole\u001b[39m\u001b[39m\"\u001b[39m: \u001b[39m\"\u001b[39m\u001b[39muser\u001b[39m\u001b[39m\"\u001b[39m, \u001b[39m\"\u001b[39m\u001b[39mcontent\u001b[39m\u001b[39m\"\u001b[39m: prompt}]\n\u001b[1;32m----> <a href='vscode-notebook-cell:/c%3A/Users/amarl/dev/jupyter-notebooks/llm-courses/chatgpt-prompting-course/l1_guidelines.ipynb#ch0000002?line=3'>4</a>\u001b[0m     response \u001b[39m=\u001b[39m openai\u001b[39m.\u001b[39;49mChatCompletion\u001b[39m.\u001b[39;49mcreate(\n\u001b[0;32m      <a href='vscode-notebook-cell:/c%3A/Users/amarl/dev/jupyter-notebooks/llm-courses/chatgpt-prompting-course/l1_guidelines.ipynb#ch0000002?line=4'>5</a>\u001b[0m         model\u001b[39m=\u001b[39;49mmodel,\n\u001b[0;32m      <a href='vscode-notebook-cell:/c%3A/Users/amarl/dev/jupyter-notebooks/llm-courses/chatgpt-prompting-course/l1_guidelines.ipynb#ch0000002?line=5'>6</a>\u001b[0m         messages\u001b[39m=\u001b[39;49mmessages,\n\u001b[0;32m      <a href='vscode-notebook-cell:/c%3A/Users/amarl/dev/jupyter-notebooks/llm-courses/chatgpt-prompting-course/l1_guidelines.ipynb#ch0000002?line=6'>7</a>\u001b[0m         temperature\u001b[39m=\u001b[39;49m\u001b[39m0\u001b[39;49m, \u001b[39m# this is the degree of randomness of the model's output\u001b[39;49;00m\n\u001b[0;32m      <a href='vscode-notebook-cell:/c%3A/Users/amarl/dev/jupyter-notebooks/llm-courses/chatgpt-prompting-course/l1_guidelines.ipynb#ch0000002?line=7'>8</a>\u001b[0m     )\n\u001b[0;32m      <a href='vscode-notebook-cell:/c%3A/Users/amarl/dev/jupyter-notebooks/llm-courses/chatgpt-prompting-course/l1_guidelines.ipynb#ch0000002?line=8'>9</a>\u001b[0m     \u001b[39mreturn\u001b[39;00m response\u001b[39m.\u001b[39mchoices[\u001b[39m0\u001b[39m]\u001b[39m.\u001b[39mmessage[\u001b[39m\"\u001b[39m\u001b[39mcontent\u001b[39m\u001b[39m\"\u001b[39m]\n",
      "File \u001b[1;32mc:\\Users\\amarl\\dev\\jupyter-notebooks\\.venv\\lib\\site-packages\\openai\\api_resources\\chat_completion.py:25\u001b[0m, in \u001b[0;36mChatCompletion.create\u001b[1;34m(cls, *args, **kwargs)\u001b[0m\n\u001b[0;32m     <a href='file:///c%3A/Users/amarl/dev/jupyter-notebooks/.venv/lib/site-packages/openai/api_resources/chat_completion.py?line=22'>23</a>\u001b[0m \u001b[39mwhile\u001b[39;00m \u001b[39mTrue\u001b[39;00m:\n\u001b[0;32m     <a href='file:///c%3A/Users/amarl/dev/jupyter-notebooks/.venv/lib/site-packages/openai/api_resources/chat_completion.py?line=23'>24</a>\u001b[0m     \u001b[39mtry\u001b[39;00m:\n\u001b[1;32m---> <a href='file:///c%3A/Users/amarl/dev/jupyter-notebooks/.venv/lib/site-packages/openai/api_resources/chat_completion.py?line=24'>25</a>\u001b[0m         \u001b[39mreturn\u001b[39;00m \u001b[39msuper\u001b[39;49m()\u001b[39m.\u001b[39;49mcreate(\u001b[39m*\u001b[39;49margs, \u001b[39m*\u001b[39;49m\u001b[39m*\u001b[39;49mkwargs)\n\u001b[0;32m     <a href='file:///c%3A/Users/amarl/dev/jupyter-notebooks/.venv/lib/site-packages/openai/api_resources/chat_completion.py?line=25'>26</a>\u001b[0m     \u001b[39mexcept\u001b[39;00m TryAgain \u001b[39mas\u001b[39;00m e:\n\u001b[0;32m     <a href='file:///c%3A/Users/amarl/dev/jupyter-notebooks/.venv/lib/site-packages/openai/api_resources/chat_completion.py?line=26'>27</a>\u001b[0m         \u001b[39mif\u001b[39;00m timeout \u001b[39mis\u001b[39;00m \u001b[39mnot\u001b[39;00m \u001b[39mNone\u001b[39;00m \u001b[39mand\u001b[39;00m time\u001b[39m.\u001b[39mtime() \u001b[39m>\u001b[39m start \u001b[39m+\u001b[39m timeout:\n",
      "File \u001b[1;32mc:\\Users\\amarl\\dev\\jupyter-notebooks\\.venv\\lib\\site-packages\\openai\\api_resources\\abstract\\engine_api_resource.py:153\u001b[0m, in \u001b[0;36mEngineAPIResource.create\u001b[1;34m(cls, api_key, api_base, api_type, request_id, api_version, organization, **params)\u001b[0m\n\u001b[0;32m    <a href='file:///c%3A/Users/amarl/dev/jupyter-notebooks/.venv/lib/site-packages/openai/api_resources/abstract/engine_api_resource.py?line=126'>127</a>\u001b[0m \u001b[39m@classmethod\u001b[39m\n\u001b[0;32m    <a href='file:///c%3A/Users/amarl/dev/jupyter-notebooks/.venv/lib/site-packages/openai/api_resources/abstract/engine_api_resource.py?line=127'>128</a>\u001b[0m \u001b[39mdef\u001b[39;00m \u001b[39mcreate\u001b[39m(\n\u001b[0;32m    <a href='file:///c%3A/Users/amarl/dev/jupyter-notebooks/.venv/lib/site-packages/openai/api_resources/abstract/engine_api_resource.py?line=128'>129</a>\u001b[0m     \u001b[39mcls\u001b[39m,\n\u001b[1;32m   (...)\u001b[0m\n\u001b[0;32m    <a href='file:///c%3A/Users/amarl/dev/jupyter-notebooks/.venv/lib/site-packages/openai/api_resources/abstract/engine_api_resource.py?line=135'>136</a>\u001b[0m     \u001b[39m*\u001b[39m\u001b[39m*\u001b[39mparams,\n\u001b[0;32m    <a href='file:///c%3A/Users/amarl/dev/jupyter-notebooks/.venv/lib/site-packages/openai/api_resources/abstract/engine_api_resource.py?line=136'>137</a>\u001b[0m ):\n\u001b[0;32m    <a href='file:///c%3A/Users/amarl/dev/jupyter-notebooks/.venv/lib/site-packages/openai/api_resources/abstract/engine_api_resource.py?line=137'>138</a>\u001b[0m     (\n\u001b[0;32m    <a href='file:///c%3A/Users/amarl/dev/jupyter-notebooks/.venv/lib/site-packages/openai/api_resources/abstract/engine_api_resource.py?line=138'>139</a>\u001b[0m         deployment_id,\n\u001b[0;32m    <a href='file:///c%3A/Users/amarl/dev/jupyter-notebooks/.venv/lib/site-packages/openai/api_resources/abstract/engine_api_resource.py?line=139'>140</a>\u001b[0m         engine,\n\u001b[1;32m   (...)\u001b[0m\n\u001b[0;32m    <a href='file:///c%3A/Users/amarl/dev/jupyter-notebooks/.venv/lib/site-packages/openai/api_resources/abstract/engine_api_resource.py?line=149'>150</a>\u001b[0m         api_key, api_base, api_type, api_version, organization, \u001b[39m*\u001b[39m\u001b[39m*\u001b[39mparams\n\u001b[0;32m    <a href='file:///c%3A/Users/amarl/dev/jupyter-notebooks/.venv/lib/site-packages/openai/api_resources/abstract/engine_api_resource.py?line=150'>151</a>\u001b[0m     )\n\u001b[1;32m--> <a href='file:///c%3A/Users/amarl/dev/jupyter-notebooks/.venv/lib/site-packages/openai/api_resources/abstract/engine_api_resource.py?line=152'>153</a>\u001b[0m     response, _, api_key \u001b[39m=\u001b[39m requestor\u001b[39m.\u001b[39;49mrequest(\n\u001b[0;32m    <a href='file:///c%3A/Users/amarl/dev/jupyter-notebooks/.venv/lib/site-packages/openai/api_resources/abstract/engine_api_resource.py?line=153'>154</a>\u001b[0m         \u001b[39m\"\u001b[39;49m\u001b[39mpost\u001b[39;49m\u001b[39m\"\u001b[39;49m,\n\u001b[0;32m    <a href='file:///c%3A/Users/amarl/dev/jupyter-notebooks/.venv/lib/site-packages/openai/api_resources/abstract/engine_api_resource.py?line=154'>155</a>\u001b[0m         url,\n\u001b[0;32m    <a href='file:///c%3A/Users/amarl/dev/jupyter-notebooks/.venv/lib/site-packages/openai/api_resources/abstract/engine_api_resource.py?line=155'>156</a>\u001b[0m         params\u001b[39m=\u001b[39;49mparams,\n\u001b[0;32m    <a href='file:///c%3A/Users/amarl/dev/jupyter-notebooks/.venv/lib/site-packages/openai/api_resources/abstract/engine_api_resource.py?line=156'>157</a>\u001b[0m         headers\u001b[39m=\u001b[39;49mheaders,\n\u001b[0;32m    <a href='file:///c%3A/Users/amarl/dev/jupyter-notebooks/.venv/lib/site-packages/openai/api_resources/abstract/engine_api_resource.py?line=157'>158</a>\u001b[0m         stream\u001b[39m=\u001b[39;49mstream,\n\u001b[0;32m    <a href='file:///c%3A/Users/amarl/dev/jupyter-notebooks/.venv/lib/site-packages/openai/api_resources/abstract/engine_api_resource.py?line=158'>159</a>\u001b[0m         request_id\u001b[39m=\u001b[39;49mrequest_id,\n\u001b[0;32m    <a href='file:///c%3A/Users/amarl/dev/jupyter-notebooks/.venv/lib/site-packages/openai/api_resources/abstract/engine_api_resource.py?line=159'>160</a>\u001b[0m         request_timeout\u001b[39m=\u001b[39;49mrequest_timeout,\n\u001b[0;32m    <a href='file:///c%3A/Users/amarl/dev/jupyter-notebooks/.venv/lib/site-packages/openai/api_resources/abstract/engine_api_resource.py?line=160'>161</a>\u001b[0m     )\n\u001b[0;32m    <a href='file:///c%3A/Users/amarl/dev/jupyter-notebooks/.venv/lib/site-packages/openai/api_resources/abstract/engine_api_resource.py?line=162'>163</a>\u001b[0m     \u001b[39mif\u001b[39;00m stream:\n\u001b[0;32m    <a href='file:///c%3A/Users/amarl/dev/jupyter-notebooks/.venv/lib/site-packages/openai/api_resources/abstract/engine_api_resource.py?line=163'>164</a>\u001b[0m         \u001b[39m# must be an iterator\u001b[39;00m\n\u001b[0;32m    <a href='file:///c%3A/Users/amarl/dev/jupyter-notebooks/.venv/lib/site-packages/openai/api_resources/abstract/engine_api_resource.py?line=164'>165</a>\u001b[0m         \u001b[39massert\u001b[39;00m \u001b[39mnot\u001b[39;00m \u001b[39misinstance\u001b[39m(response, OpenAIResponse)\n",
      "File \u001b[1;32mc:\\Users\\amarl\\dev\\jupyter-notebooks\\.venv\\lib\\site-packages\\openai\\api_requestor.py:230\u001b[0m, in \u001b[0;36mAPIRequestor.request\u001b[1;34m(self, method, url, params, headers, files, stream, request_id, request_timeout)\u001b[0m\n\u001b[0;32m    <a href='file:///c%3A/Users/amarl/dev/jupyter-notebooks/.venv/lib/site-packages/openai/api_requestor.py?line=208'>209</a>\u001b[0m \u001b[39mdef\u001b[39;00m \u001b[39mrequest\u001b[39m(\n\u001b[0;32m    <a href='file:///c%3A/Users/amarl/dev/jupyter-notebooks/.venv/lib/site-packages/openai/api_requestor.py?line=209'>210</a>\u001b[0m     \u001b[39mself\u001b[39m,\n\u001b[0;32m    <a href='file:///c%3A/Users/amarl/dev/jupyter-notebooks/.venv/lib/site-packages/openai/api_requestor.py?line=210'>211</a>\u001b[0m     method,\n\u001b[1;32m   (...)\u001b[0m\n\u001b[0;32m    <a href='file:///c%3A/Users/amarl/dev/jupyter-notebooks/.venv/lib/site-packages/openai/api_requestor.py?line=217'>218</a>\u001b[0m     request_timeout: Optional[Union[\u001b[39mfloat\u001b[39m, Tuple[\u001b[39mfloat\u001b[39m, \u001b[39mfloat\u001b[39m]]] \u001b[39m=\u001b[39m \u001b[39mNone\u001b[39;00m,\n\u001b[0;32m    <a href='file:///c%3A/Users/amarl/dev/jupyter-notebooks/.venv/lib/site-packages/openai/api_requestor.py?line=218'>219</a>\u001b[0m ) \u001b[39m-\u001b[39m\u001b[39m>\u001b[39m Tuple[Union[OpenAIResponse, Iterator[OpenAIResponse]], \u001b[39mbool\u001b[39m, \u001b[39mstr\u001b[39m]:\n\u001b[0;32m    <a href='file:///c%3A/Users/amarl/dev/jupyter-notebooks/.venv/lib/site-packages/openai/api_requestor.py?line=219'>220</a>\u001b[0m     result \u001b[39m=\u001b[39m \u001b[39mself\u001b[39m\u001b[39m.\u001b[39mrequest_raw(\n\u001b[0;32m    <a href='file:///c%3A/Users/amarl/dev/jupyter-notebooks/.venv/lib/site-packages/openai/api_requestor.py?line=220'>221</a>\u001b[0m         method\u001b[39m.\u001b[39mlower(),\n\u001b[0;32m    <a href='file:///c%3A/Users/amarl/dev/jupyter-notebooks/.venv/lib/site-packages/openai/api_requestor.py?line=221'>222</a>\u001b[0m         url,\n\u001b[1;32m   (...)\u001b[0m\n\u001b[0;32m    <a href='file:///c%3A/Users/amarl/dev/jupyter-notebooks/.venv/lib/site-packages/openai/api_requestor.py?line=227'>228</a>\u001b[0m         request_timeout\u001b[39m=\u001b[39mrequest_timeout,\n\u001b[0;32m    <a href='file:///c%3A/Users/amarl/dev/jupyter-notebooks/.venv/lib/site-packages/openai/api_requestor.py?line=228'>229</a>\u001b[0m     )\n\u001b[1;32m--> <a href='file:///c%3A/Users/amarl/dev/jupyter-notebooks/.venv/lib/site-packages/openai/api_requestor.py?line=229'>230</a>\u001b[0m     resp, got_stream \u001b[39m=\u001b[39m \u001b[39mself\u001b[39;49m\u001b[39m.\u001b[39;49m_interpret_response(result, stream)\n\u001b[0;32m    <a href='file:///c%3A/Users/amarl/dev/jupyter-notebooks/.venv/lib/site-packages/openai/api_requestor.py?line=230'>231</a>\u001b[0m     \u001b[39mreturn\u001b[39;00m resp, got_stream, \u001b[39mself\u001b[39m\u001b[39m.\u001b[39mapi_key\n",
      "File \u001b[1;32mc:\\Users\\amarl\\dev\\jupyter-notebooks\\.venv\\lib\\site-packages\\openai\\api_requestor.py:624\u001b[0m, in \u001b[0;36mAPIRequestor._interpret_response\u001b[1;34m(self, result, stream)\u001b[0m\n\u001b[0;32m    <a href='file:///c%3A/Users/amarl/dev/jupyter-notebooks/.venv/lib/site-packages/openai/api_requestor.py?line=615'>616</a>\u001b[0m     \u001b[39mreturn\u001b[39;00m (\n\u001b[0;32m    <a href='file:///c%3A/Users/amarl/dev/jupyter-notebooks/.venv/lib/site-packages/openai/api_requestor.py?line=616'>617</a>\u001b[0m         \u001b[39mself\u001b[39m\u001b[39m.\u001b[39m_interpret_response_line(\n\u001b[0;32m    <a href='file:///c%3A/Users/amarl/dev/jupyter-notebooks/.venv/lib/site-packages/openai/api_requestor.py?line=617'>618</a>\u001b[0m             line, result\u001b[39m.\u001b[39mstatus_code, result\u001b[39m.\u001b[39mheaders, stream\u001b[39m=\u001b[39m\u001b[39mTrue\u001b[39;00m\n\u001b[0;32m    <a href='file:///c%3A/Users/amarl/dev/jupyter-notebooks/.venv/lib/site-packages/openai/api_requestor.py?line=618'>619</a>\u001b[0m         )\n\u001b[0;32m    <a href='file:///c%3A/Users/amarl/dev/jupyter-notebooks/.venv/lib/site-packages/openai/api_requestor.py?line=619'>620</a>\u001b[0m         \u001b[39mfor\u001b[39;00m line \u001b[39min\u001b[39;00m parse_stream(result\u001b[39m.\u001b[39miter_lines())\n\u001b[0;32m    <a href='file:///c%3A/Users/amarl/dev/jupyter-notebooks/.venv/lib/site-packages/openai/api_requestor.py?line=620'>621</a>\u001b[0m     ), \u001b[39mTrue\u001b[39;00m\n\u001b[0;32m    <a href='file:///c%3A/Users/amarl/dev/jupyter-notebooks/.venv/lib/site-packages/openai/api_requestor.py?line=621'>622</a>\u001b[0m \u001b[39melse\u001b[39;00m:\n\u001b[0;32m    <a href='file:///c%3A/Users/amarl/dev/jupyter-notebooks/.venv/lib/site-packages/openai/api_requestor.py?line=622'>623</a>\u001b[0m     \u001b[39mreturn\u001b[39;00m (\n\u001b[1;32m--> <a href='file:///c%3A/Users/amarl/dev/jupyter-notebooks/.venv/lib/site-packages/openai/api_requestor.py?line=623'>624</a>\u001b[0m         \u001b[39mself\u001b[39;49m\u001b[39m.\u001b[39;49m_interpret_response_line(\n\u001b[0;32m    <a href='file:///c%3A/Users/amarl/dev/jupyter-notebooks/.venv/lib/site-packages/openai/api_requestor.py?line=624'>625</a>\u001b[0m             result\u001b[39m.\u001b[39;49mcontent\u001b[39m.\u001b[39;49mdecode(\u001b[39m\"\u001b[39;49m\u001b[39mutf-8\u001b[39;49m\u001b[39m\"\u001b[39;49m),\n\u001b[0;32m    <a href='file:///c%3A/Users/amarl/dev/jupyter-notebooks/.venv/lib/site-packages/openai/api_requestor.py?line=625'>626</a>\u001b[0m             result\u001b[39m.\u001b[39;49mstatus_code,\n\u001b[0;32m    <a href='file:///c%3A/Users/amarl/dev/jupyter-notebooks/.venv/lib/site-packages/openai/api_requestor.py?line=626'>627</a>\u001b[0m             result\u001b[39m.\u001b[39;49mheaders,\n\u001b[0;32m    <a href='file:///c%3A/Users/amarl/dev/jupyter-notebooks/.venv/lib/site-packages/openai/api_requestor.py?line=627'>628</a>\u001b[0m             stream\u001b[39m=\u001b[39;49m\u001b[39mFalse\u001b[39;49;00m,\n\u001b[0;32m    <a href='file:///c%3A/Users/amarl/dev/jupyter-notebooks/.venv/lib/site-packages/openai/api_requestor.py?line=628'>629</a>\u001b[0m         ),\n\u001b[0;32m    <a href='file:///c%3A/Users/amarl/dev/jupyter-notebooks/.venv/lib/site-packages/openai/api_requestor.py?line=629'>630</a>\u001b[0m         \u001b[39mFalse\u001b[39;00m,\n\u001b[0;32m    <a href='file:///c%3A/Users/amarl/dev/jupyter-notebooks/.venv/lib/site-packages/openai/api_requestor.py?line=630'>631</a>\u001b[0m     )\n",
      "File \u001b[1;32mc:\\Users\\amarl\\dev\\jupyter-notebooks\\.venv\\lib\\site-packages\\openai\\api_requestor.py:687\u001b[0m, in \u001b[0;36mAPIRequestor._interpret_response_line\u001b[1;34m(self, rbody, rcode, rheaders, stream)\u001b[0m\n\u001b[0;32m    <a href='file:///c%3A/Users/amarl/dev/jupyter-notebooks/.venv/lib/site-packages/openai/api_requestor.py?line=684'>685</a>\u001b[0m stream_error \u001b[39m=\u001b[39m stream \u001b[39mand\u001b[39;00m \u001b[39m\"\u001b[39m\u001b[39merror\u001b[39m\u001b[39m\"\u001b[39m \u001b[39min\u001b[39;00m resp\u001b[39m.\u001b[39mdata\n\u001b[0;32m    <a href='file:///c%3A/Users/amarl/dev/jupyter-notebooks/.venv/lib/site-packages/openai/api_requestor.py?line=685'>686</a>\u001b[0m \u001b[39mif\u001b[39;00m stream_error \u001b[39mor\u001b[39;00m \u001b[39mnot\u001b[39;00m \u001b[39m200\u001b[39m \u001b[39m<\u001b[39m\u001b[39m=\u001b[39m rcode \u001b[39m<\u001b[39m \u001b[39m300\u001b[39m:\n\u001b[1;32m--> <a href='file:///c%3A/Users/amarl/dev/jupyter-notebooks/.venv/lib/site-packages/openai/api_requestor.py?line=686'>687</a>\u001b[0m     \u001b[39mraise\u001b[39;00m \u001b[39mself\u001b[39m\u001b[39m.\u001b[39mhandle_error_response(\n\u001b[0;32m    <a href='file:///c%3A/Users/amarl/dev/jupyter-notebooks/.venv/lib/site-packages/openai/api_requestor.py?line=687'>688</a>\u001b[0m         rbody, rcode, resp\u001b[39m.\u001b[39mdata, rheaders, stream_error\u001b[39m=\u001b[39mstream_error\n\u001b[0;32m    <a href='file:///c%3A/Users/amarl/dev/jupyter-notebooks/.venv/lib/site-packages/openai/api_requestor.py?line=688'>689</a>\u001b[0m     )\n\u001b[0;32m    <a href='file:///c%3A/Users/amarl/dev/jupyter-notebooks/.venv/lib/site-packages/openai/api_requestor.py?line=689'>690</a>\u001b[0m \u001b[39mreturn\u001b[39;00m resp\n",
      "\u001b[1;31mAuthenticationError\u001b[0m: <empty message>"
     ]
    }
   ],
   "source": [
    "#sometimes more context is better\n",
    "text = f\"\"\"\n",
    "You should express what you want a model to do by \\ \n",
    "providing instructions that are as clear and \\ \n",
    "specific as you can possibly make them. \\ \n",
    "This will guide the model towards the desired output, \\ \n",
    "and reduce the chances of receiving irrelevant \\ \n",
    "or incorrect responses. Don't confuse writing a \\ \n",
    "clear prompt with writing a short prompt. \\ \n",
    "In many cases, longer prompts provide more clarity \\ \n",
    "and context for the model, which can lead to \\ \n",
    "more detailed and relevant outputs.\n",
    "\"\"\"\n",
    "prompt = f\"\"\"\n",
    "Summarize the text delimited by triple backticks \\ \n",
    "into a single sentence.\n",
    "```{text}```\n",
    "\"\"\"\n",
    "response = get_completion(prompt)\n",
    "print(response)"
   ]
  },
  {
   "cell_type": "code",
   "execution_count": 5,
   "metadata": {},
   "outputs": [
    {
     "name": "stdout",
     "output_type": "stream",
     "text": [
      "[\n",
      "  {\n",
      "    \"book_id\": 1,\n",
      "    \"title\": \"The Lost City of Zorath\",\n",
      "    \"author\": \"Aria Blackwood\",\n",
      "    \"genre\": \"Fantasy\"\n",
      "  },\n",
      "  {\n",
      "    \"book_id\": 2,\n",
      "    \"title\": \"The Last Survivors\",\n",
      "    \"author\": \"Ethan Stone\",\n",
      "    \"genre\": \"Science Fiction\"\n",
      "  },\n",
      "  {\n",
      "    \"book_id\": 3,\n",
      "    \"title\": \"The Secret Life of Bees\",\n",
      "    \"author\": \"Lila Rose\",\n",
      "    \"genre\": \"Romance\"\n",
      "  }\n",
      "]\n"
     ]
    }
   ],
   "source": [
    "#gpt3 can follow instructions and provide responses in standardized format\n",
    "prompt = f\"\"\"\n",
    "Generate a list of three made-up book titles along \\ \n",
    "with their authors and genres. \n",
    "Provide them in JSON format with the following keys: \n",
    "book_id, title, author, genre.\n",
    "\"\"\"\n",
    "response = get_completion(prompt)\n",
    "print(response)"
   ]
  },
  {
   "cell_type": "code",
   "execution_count": 6,
   "metadata": {},
   "outputs": [
    {
     "name": "stdout",
     "output_type": "stream",
     "text": [
      "Completion for Text 1:\n",
      "Step 1 - Get some water boiling.\n",
      "Step 2 - Grab a cup and put a tea bag in it.\n",
      "Step 3 - Once the water is hot enough, pour it over the tea bag.\n",
      "Step 4 - Let it sit for a bit so the tea can steep.\n",
      "Step 5 - After a few minutes, take out the tea bag.\n",
      "Step 6 - Add some sugar or milk to taste.\n",
      "Step 7 - Enjoy your delicious cup of tea!\n"
     ]
    }
   ],
   "source": [
    "# it can understand delimiters for identifying which text to analyze, and determine whether the instructions meet certain criteria\n",
    "# \n",
    "text_1 = f\"\"\"\n",
    "Making a cup of tea is easy! First, you need to get some \\ \n",
    "water boiling. While that's happening, \\ \n",
    "grab a cup and put a tea bag in it. Once the water is \\ \n",
    "hot enough, just pour it over the tea bag. \\ \n",
    "Let it sit for a bit so the tea can steep. After a \\ \n",
    "few minutes, take out the tea bag. If you \\ \n",
    "like, you can add some sugar or milk to taste. \\ \n",
    "And that's it! You've got yourself a delicious \\ \n",
    "cup of tea to enjoy.\n",
    "\"\"\"\n",
    "prompt = f\"\"\"\n",
    "You will be provided with text delimited by triple quotes. \n",
    "If it contains a sequence of instructions, \\ \n",
    "re-write those instructions in the following format:\n",
    "\n",
    "Step 1 - ...\n",
    "Step 2 - …\n",
    "…\n",
    "Step N - …\n",
    "\n",
    "If the text does not contain a sequence of instructions, \\ \n",
    "then simply write \\\"No steps provided.\\\"\n",
    "\n",
    "\\\"\\\"\\\"{text_1}\\\"\\\"\\\"\n",
    "\"\"\"\n",
    "response = get_completion(prompt)\n",
    "print(\"Completion for Text 1:\")\n",
    "print(response)"
   ]
  },
  {
   "cell_type": "code",
   "execution_count": 7,
   "metadata": {},
   "outputs": [
    {
     "name": "stdout",
     "output_type": "stream",
     "text": [
      "Completion for Text 2:\n",
      "No steps provided.\n"
     ]
    }
   ],
   "source": [
    "text_2 = f\"\"\"\n",
    "The sun is shining brightly today, and the birds are \\\n",
    "singing. It's a beautiful day to go for a \\ \n",
    "walk in the park. The flowers are blooming, and the \\ \n",
    "trees are swaying gently in the breeze. People \\ \n",
    "are out and about, enjoying the lovely weather. \\ \n",
    "Some are having picnics, while others are playing \\ \n",
    "games or simply relaxing on the grass. It's a \\ \n",
    "perfect day to spend time outdoors and appreciate the \\ \n",
    "beauty of nature.\n",
    "\"\"\"\n",
    "prompt = f\"\"\"\n",
    "You will be provided with text delimited by triple quotes. \n",
    "If it contains a sequence of instructions, \\ \n",
    "re-write those instructions in the following format:\n",
    "\n",
    "Step 1 - ...\n",
    "Step 2 - …\n",
    "…\n",
    "Step N - …\n",
    "\n",
    "If the text does not contain a sequence of instructions, \\ \n",
    "then simply write \\\"No steps provided.\\\"\n",
    "\n",
    "\\\"\\\"\\\"{text_2}\\\"\\\"\\\"\n",
    "\"\"\"\n",
    "response = get_completion(prompt)\n",
    "print(\"Completion for Text 2:\")\n",
    "print(response)"
   ]
  },
  {
   "cell_type": "code",
   "execution_count": 8,
   "metadata": {},
   "outputs": [
    {
     "name": "stdout",
     "output_type": "stream",
     "text": [
      "<grandparent>: Resilience is like a tree that bends with the wind but never breaks. It is the ability to bounce back from adversity and keep moving forward, even when things get tough. Just like a tree that grows stronger with each storm it weathers, resilience is a quality that can be developed and strengthened over time.\n"
     ]
    }
   ],
   "source": [
    "#it can answer buy following a model defined in the prompt\n",
    "prompt = f\"\"\"\n",
    "Your task is to answer in a consistent style.\n",
    "\n",
    "<child>: Teach me about patience.\n",
    "\n",
    "<grandparent>: The river that carves the deepest \\ \n",
    "valley flows from a modest spring; the \\ \n",
    "grandest symphony originates from a single note; \\ \n",
    "the most intricate tapestry begins with a solitary thread.\n",
    "\n",
    "<child>: Teach me about resilience.\n",
    "\"\"\"\n",
    "response = get_completion(prompt)\n",
    "print(response)"
   ]
  },
  {
   "cell_type": "code",
   "execution_count": 9,
   "metadata": {},
   "outputs": [
    {
     "name": "stdout",
     "output_type": "stream",
     "text": [
      "The student's solution is correct.\n"
     ]
    }
   ],
   "source": [
    "# it skims and comes to the wrong solution\n",
    "prompt = f\"\"\"\n",
    "Determine if the student's solution is correct or not.\n",
    "\n",
    "Question:\n",
    "I'm building a solar power installation and I need \\\n",
    " help working out the financials. \n",
    "- Land costs $100 / square foot\n",
    "- I can buy solar panels for $250 / square foot\n",
    "- I negotiated a contract for maintenance that will cost \\ \n",
    "me a flat $100k per year, and an additional $10 / square \\\n",
    "foot\n",
    "What is the total cost for the first year of operations \n",
    "as a function of the number of square feet.\n",
    "\n",
    "Student's Solution:\n",
    "Let x be the size of the installation in square feet.\n",
    "Costs:\n",
    "1. Land cost: 100x\n",
    "2. Solar panel cost: 250x\n",
    "3. Maintenance cost: 100,000 + 100x\n",
    "Total cost: 100x + 250x + 100,000 + 100x = 450x + 100,000\n",
    "\"\"\"\n",
    "response = get_completion(prompt)\n",
    "print(response)"
   ]
  },
  {
   "cell_type": "code",
   "execution_count": 10,
   "metadata": {},
   "outputs": [
    {
     "name": "stdout",
     "output_type": "stream",
     "text": [
      "Let x be the size of the installation in square feet.\n",
      "\n",
      "Costs:\n",
      "1. Land cost: 100x\n",
      "2. Solar panel cost: 250x\n",
      "3. Maintenance cost: 100,000 + 10x\n",
      "\n",
      "Total cost: 100x + 250x + 100,000 + 10x = 360x + 100,000\n",
      "\n",
      "Is the student's solution the same as actual solution just calculated:\n",
      "No\n",
      "\n",
      "Student grade:\n",
      "Incorrect\n"
     ]
    }
   ],
   "source": [
    "#same question but more detailed instruction process\n",
    "prompt = f\"\"\"\n",
    "Your task is to determine if the student's solution \\\n",
    "is correct or not.\n",
    "To solve the problem do the following:\n",
    "- First, work out your own solution to the problem. \n",
    "- Then compare your solution to the student's solution \\ \n",
    "and evaluate if the student's solution is correct or not. \n",
    "Don't decide if the student's solution is correct until \n",
    "you have done the problem yourself.\n",
    "\n",
    "Use the following format:\n",
    "Question:\n",
    "```\n",
    "question here\n",
    "```\n",
    "Student's solution:\n",
    "```\n",
    "student's solution here\n",
    "```\n",
    "Actual solution:\n",
    "```\n",
    "steps to work out the solution and your solution here\n",
    "```\n",
    "Is the student's solution the same as actual solution \\\n",
    "just calculated:\n",
    "```\n",
    "yes or no\n",
    "```\n",
    "Student grade:\n",
    "```\n",
    "correct or incorrect\n",
    "```\n",
    "\n",
    "Question:\n",
    "```\n",
    "I'm building a solar power installation and I need help \\\n",
    "working out the financials. \n",
    "- Land costs $100 / square foot\n",
    "- I can buy solar panels for $250 / square foot\n",
    "- I negotiated a contract for maintenance that will cost \\\n",
    "me a flat $100k per year, and an additional $10 / square \\\n",
    "foot\n",
    "What is the total cost for the first year of operations \\\n",
    "as a function of the number of square feet.\n",
    "``` \n",
    "Student's solution:\n",
    "```\n",
    "Let x be the size of the installation in square feet.\n",
    "Costs:\n",
    "1. Land cost: 100x\n",
    "2. Solar panel cost: 250x\n",
    "3. Maintenance cost: 100,000 + 100x\n",
    "Total cost: 100x + 250x + 100,000 + 100x = 450x + 100,000\n",
    "```\n",
    "Actual solution:\n",
    "\"\"\"\n",
    "response = get_completion(prompt)\n",
    "print(response)"
   ]
  },
  {
   "cell_type": "code",
   "execution_count": 11,
   "metadata": {},
   "outputs": [
    {
     "name": "stdout",
     "output_type": "stream",
     "text": [
      "The AeroGlide UltraSlim Smart Toothbrush by Boie is a high-tech toothbrush that uses advanced sonic technology to provide a deep and thorough clean. It features a slim and sleek design that makes it easy to hold and maneuver, and it comes with a range of smart features that help you optimize your brushing routine.\n",
      "\n",
      "One of the key features of the AeroGlide UltraSlim Smart Toothbrush is its advanced sonic technology, which uses high-frequency vibrations to break up plaque and bacteria on your teeth and gums. This technology is highly effective at removing even the toughest stains and buildup, leaving your teeth feeling clean and fresh.\n",
      "\n",
      "In addition to its sonic technology, the AeroGlide UltraSlim Smart Toothbrush also comes with a range of smart features that help you optimize your brushing routine. These include a built-in timer that ensures you brush for the recommended two minutes, as well as a pressure sensor that alerts you if you're brushing too hard.\n",
      "\n",
      "Overall, the AeroGlide UltraSlim Smart Toothbrush by Boie is a highly advanced and effective toothbrush that is perfect for anyone looking to take their oral hygiene to the next level. With its advanced sonic technology and smart features, it provides a deep and thorough clean that leaves your teeth feeling fresh and healthy.\n"
     ]
    }
   ],
   "source": [
    "# this is a fake product, the AI is \"hallucinating\" the facts it spits out about it\n",
    "prompt = f\"\"\"\n",
    "Tell me about AeroGlide UltraSlim Smart Toothbrush by Boie\n",
    "\"\"\"\n",
    "response = get_completion(prompt)\n",
    "print(response)"
   ]
  },
  {
   "cell_type": "code",
   "execution_count": 12,
   "metadata": {},
   "outputs": [
    {
     "name": "stdout",
     "output_type": "stream",
     "text": [
      "In a base 9 number system where the digit 4 does not exist, the highest digit is 8. Therefore, 2 + 2 = 4 is not possible in this system. The closest we can get is 2 + 2 = 10, which would be written as \"11\" in base 9.\n"
     ]
    }
   ],
   "source": [
    "prompt = f\"\"\"\n",
    "In a base 9 number system, where the digit 4 does not exist, what is 2 + 2?\n",
    "\"\"\"\n",
    "response = get_completion(prompt)\n",
    "print(response)"
   ]
  },
  {
   "cell_type": "code",
   "execution_count": 21,
   "metadata": {},
   "outputs": [
    {
     "name": "stdout",
     "output_type": "stream",
     "text": [
      "In this number system, the digit 4 is not used at all. The digits between 1 and 10 in this system are 1, 2, 3, 5, 6, 7, 8, and 9. The number 5 is considered the fourth digit in this system since 4 is not included.\n",
      "\n",
      "Answer:\n",
      "In this number system, when we add 2 + 2, we would normally get 4. However, since 4 does not exist in this system, the next digit after 3 is 5. So, in this number system, 2 + 2 = 5.\n"
     ]
    }
   ],
   "source": [
    "prompt = f\"\"\"\n",
    "Your task is to provide an answer to the problem, along with a detailed explanation of your reasoning.\n",
    "To solve the problem do the following:\n",
    "- First, explain the number system described in the problem. What are the digits between 1 and 10 in that system?\n",
    "- Then use that explanation to come up with an answer to the problem.\n",
    "Don't decide on an answer to the problem untill you've provided an explanation of the number system.\n",
    "\n",
    "Use the following format:\n",
    "Problem:\n",
    "```\n",
    "problem here\n",
    "```\n",
    "Explanation:\n",
    "```\n",
    "explanation here\n",
    "```\n",
    "Answer:\n",
    "```\n",
    "answer here\n",
    "```\n",
    "\n",
    "Question:\n",
    "```\n",
    "I'm using a number system where the digit 4 does not exist, it cannot be used. The number system uses all the other digits \\\n",
    "in a normal base 10 number system, but there is no digit between 3 and 5. Because the number 4 is not included, \\\n",
    "the number 5 is actually the fourth digit in the number system. \\\n",
    "Using this number system, what is 2 + 2?\n",
    "``` \n",
    "Explanation:\n",
    "\"\"\"\n",
    "response = get_completion(prompt)\n",
    "print(response)"
   ]
  }
 ],
 "metadata": {
  "interpreter": {
   "hash": "3a56a94f74e45a44b9c4a3ad316956f7230cb1cbf8a2057055f7f43e69ad1429"
  },
  "kernelspec": {
   "display_name": "Python 3.8.1 ('.venv': pipenv)",
   "language": "python",
   "name": "python3"
  },
  "language_info": {
   "codemirror_mode": {
    "name": "ipython",
    "version": 3
   },
   "file_extension": ".py",
   "mimetype": "text/x-python",
   "name": "python",
   "nbconvert_exporter": "python",
   "pygments_lexer": "ipython3",
   "version": "3.8.1"
  },
  "orig_nbformat": 4
 },
 "nbformat": 4,
 "nbformat_minor": 2
}
